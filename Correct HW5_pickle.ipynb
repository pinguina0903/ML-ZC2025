{
 "cells": [
  {
   "cell_type": "code",
   "execution_count": 1,
   "id": "2a6792de-5259-44fb-a704-c8c98cba404b",
   "metadata": {},
   "outputs": [],
   "source": [
    "import pickle\n",
    "import requests"
   ]
  },
  {
   "cell_type": "code",
   "execution_count": 3,
   "id": "9e8236af-f281-43f7-aee0-fd2b2bc234a1",
   "metadata": {},
   "outputs": [
    {
     "name": "stdout",
     "output_type": "stream",
     "text": [
      "Downloaded: pipeline_v1.bin\n"
     ]
    }
   ],
   "source": [
    "PREFIX = \"https://github.com/DataTalksClub/machine-learning-zoomcamp/raw/refs/heads/master/cohorts/2025/05-deployment/\"\n",
    "files_to_download = [\"pipeline_v1.bin\"]\n",
    "\n",
    "for file in files_to_download:\n",
    "    url = f\"{PREFIX}/{file}\"\n",
    "    response = requests.get(url)\n",
    "\n",
    "    if response.status_code == 200:\n",
    "        with open(file, 'wb') as f:\n",
    "            f.write(response.content)\n",
    "        print(f\"Downloaded: {file}\")\n",
    "    else:\n",
    "        print(f\"Failed to download: {url}\")"
   ]
  },
  {
   "cell_type": "code",
   "execution_count": 8,
   "id": "fd80c31e-ef16-4450-af32-2ca9384e7162",
   "metadata": {},
   "outputs": [],
   "source": [
    "with open('pipeline_v1.bin', 'rb') as f_in:\n",
    "    Pipeline = pickle.load(f_in)"
   ]
  },
  {
   "cell_type": "code",
   "execution_count": 16,
   "id": "670eaa68-64a3-47a3-b7f0-f6216f65730a",
   "metadata": {},
   "outputs": [],
   "source": [
    "new_data = [\n",
    "   {\"lead_source\": \"paid_ads\",       \"number_of_courses_viewed\": 2,        \"annual_income\": 79276.0    }\n",
    "\n",
    "]"
   ]
  },
  {
   "cell_type": "code",
   "execution_count": 17,
   "id": "df045ae4-88fd-4480-a136-7e145367bc48",
   "metadata": {},
   "outputs": [
    {
     "name": "stdout",
     "output_type": "stream",
     "text": [
      "[1]\n"
     ]
    }
   ],
   "source": [
    "# Make predictions\n",
    "predictions = pipeline.predict(new_data)\n",
    "print(predictions)"
   ]
  },
  {
   "cell_type": "code",
   "execution_count": null,
   "id": "84bb8b6c-16be-4c86-9bd9-59a1ac74878a",
   "metadata": {},
   "outputs": [],
   "source": []
  }
 ],
 "metadata": {
  "kernelspec": {
   "display_name": "Python 3 (ipykernel)",
   "language": "python",
   "name": "python3"
  },
  "language_info": {
   "codemirror_mode": {
    "name": "ipython",
    "version": 3
   },
   "file_extension": ".py",
   "mimetype": "text/x-python",
   "name": "python",
   "nbconvert_exporter": "python",
   "pygments_lexer": "ipython3",
   "version": "3.12.1"
  }
 },
 "nbformat": 4,
 "nbformat_minor": 5
}
